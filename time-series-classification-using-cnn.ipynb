{
 "cells": [
  {
   "cell_type": "markdown",
   "id": "adult-nightmare",
   "metadata": {
    "papermill": {
     "duration": 0.015251,
     "end_time": "2021-05-23T13:58:14.724404",
     "exception": false,
     "start_time": "2021-05-23T13:58:14.709153",
     "status": "completed"
    },
    "tags": []
   },
   "source": [
    "# TIme Series Classification Task\n",
    "\n",
    "There is a task called time series classification that predicts the class of a given time series data.\n",
    "\n",
    "For example, human motion recognition (HAR) such as what posture or activity the user is doing based on the information of the accelerometer built in the smart watch is one of the famous applications.\n",
    "\n",
    "In the method of inputting raw signal data, there is a famous algorithm such as Shapelet and HIVE-COTE(Ensemble model), while the method using deep learing is not so exciting compared to NLP and CV."
   ]
  },
  {
   "cell_type": "markdown",
   "id": "golden-regulation",
   "metadata": {
    "papermill": {
     "duration": 0.013713,
     "end_time": "2021-05-23T13:58:14.752481",
     "exception": false,
     "start_time": "2021-05-23T13:58:14.738768",
     "status": "completed"
    },
    "tags": []
   },
   "source": [
    "This note is for recoding a method of time series classification using deep learning."
   ]
  },
  {
   "cell_type": "markdown",
   "id": "wooden-gibson",
   "metadata": {
    "papermill": {
     "duration": 0.013862,
     "end_time": "2021-05-23T13:58:14.780433",
     "exception": false,
     "start_time": "2021-05-23T13:58:14.766571",
     "status": "completed"
    },
    "tags": []
   },
   "source": [
    "## Additional Libraries\n",
    "* [pyts](https://pyts.readthedocs.io/en/stable/index.html) ... Awesome time series analysis library. If you are intereseted in Shapelet Transform, you shoud use this.\n",
    "* [tslearn](https://tslearn.readthedocs.io/en/stable/) ... Awesome time series analysis library. TimeSeriesScalerMeanVariance is convenient\n",
    "* [enchanter](https://enchanter.readthedocs.io/en/stable/) ... The library I is creating."
   ]
  },
  {
   "cell_type": "code",
   "execution_count": 1,
   "id": "dutch-plymouth",
   "metadata": {
    "_cell_guid": "b1076dfc-b9ad-4769-8c92-a6c4dae69d19",
    "_kg_hide-output": true,
    "_uuid": "8f2839f25d086af736a60e9eeb907d3b93b6e0e5",
    "execution": {
     "iopub.execute_input": "2021-05-23T13:58:14.813456Z",
     "iopub.status.busy": "2021-05-23T13:58:14.812261Z",
     "iopub.status.idle": "2021-05-23T13:58:39.000254Z",
     "shell.execute_reply": "2021-05-23T13:58:38.999111Z",
     "shell.execute_reply.started": "2021-05-23T13:46:42.065203Z"
    },
    "papermill": {
     "duration": 24.205896,
     "end_time": "2021-05-23T13:58:39.000439",
     "exception": false,
     "start_time": "2021-05-23T13:58:14.794543",
     "status": "completed"
    },
    "tags": []
   },
   "outputs": [
    {
     "name": "stdout",
     "output_type": "stream",
     "text": [
      "Collecting pyts\r\n",
      "  Downloading pyts-0.11.0-py3-none-any.whl (2.5 MB)\r\n",
      "\u001b[K     |████████████████████████████████| 2.5 MB 2.0 MB/s \r\n",
      "\u001b[?25hCollecting tslearn\r\n",
      "  Downloading tslearn-0.5.1.0-cp37-cp37m-manylinux_2_5_x86_64.manylinux1_x86_64.manylinux_2_12_x86_64.manylinux2010_x86_64.whl (793 kB)\r\n",
      "\u001b[K     |████████████████████████████████| 793 kB 3.8 MB/s \r\n",
      "\u001b[?25hCollecting enchanter\r\n",
      "  Downloading enchanter-0.8.1-py3-none-any.whl (54 kB)\r\n",
      "\u001b[K     |████████████████████████████████| 54 kB 1.6 MB/s \r\n",
      "\u001b[?25hCollecting comet_ml<4.0.0,>=3.1.3\r\n",
      "  Downloading comet_ml-3.10.0-py2.py3-none-any.whl (258 kB)\r\n",
      "\u001b[K     |████████████████████████████████| 258 kB 3.8 MB/s \r\n",
      "\u001b[?25hRequirement already satisfied: pandas<2.0,>=1.0 in /opt/conda/lib/python3.7/site-packages (from enchanter) (1.2.3)\r\n",
      "Requirement already satisfied: tqdm<5.0,>=4.41 in /opt/conda/lib/python3.7/site-packages (from enchanter) (4.59.0)\r\n",
      "Requirement already satisfied: tensorboard<3.0,>=2.1 in /opt/conda/lib/python3.7/site-packages (from enchanter) (2.4.1)\r\n",
      "Collecting netron<5.0,>=4.5\r\n",
      "  Downloading netron-4.9.4-py2.py3-none-any.whl (1.4 MB)\r\n",
      "\u001b[K     |████████████████████████████████| 1.4 MB 3.7 MB/s \r\n",
      "\u001b[?25hRequirement already satisfied: numpy<2.0,>=1.17 in /opt/conda/lib/python3.7/site-packages (from enchanter) (1.19.5)\r\n",
      "Collecting scikit-learn<0.24,>=0.23\r\n",
      "  Downloading scikit_learn-0.23.2-cp37-cp37m-manylinux1_x86_64.whl (6.8 MB)\r\n",
      "\u001b[K     |████████████████████████████████| 6.8 MB 5.4 MB/s \r\n",
      "\u001b[?25hRequirement already satisfied: six in /opt/conda/lib/python3.7/site-packages (from comet_ml<4.0.0,>=3.1.3->enchanter) (1.15.0)\r\n",
      "Collecting dulwich>=0.20.6\r\n",
      "  Downloading dulwich-0.20.21-cp37-cp37m-manylinux2010_x86_64.whl (515 kB)\r\n",
      "\u001b[K     |████████████████████████████████| 515 kB 6.8 MB/s \r\n",
      "\u001b[?25hRequirement already satisfied: requests>=2.18.4 in /opt/conda/lib/python3.7/site-packages (from comet_ml<4.0.0,>=3.1.3->enchanter) (2.25.1)\r\n",
      "Requirement already satisfied: websocket-client>=0.55.0 in /opt/conda/lib/python3.7/site-packages (from comet_ml<4.0.0,>=3.1.3->enchanter) (0.57.0)\r\n",
      "Requirement already satisfied: nvidia-ml-py3>=7.352.0 in /opt/conda/lib/python3.7/site-packages (from comet_ml<4.0.0,>=3.1.3->enchanter) (7.352.0)\r\n",
      "Requirement already satisfied: jsonschema!=3.1.0,>=2.6.0 in /opt/conda/lib/python3.7/site-packages (from comet_ml<4.0.0,>=3.1.3->enchanter) (3.2.0)\r\n",
      "Collecting everett[ini]>=1.0.1\r\n",
      "  Downloading everett-1.0.3-py2.py3-none-any.whl (31 kB)\r\n",
      "Collecting wurlitzer>=1.0.2\r\n",
      "  Downloading wurlitzer-2.1.0-py2.py3-none-any.whl (6.2 kB)\r\n",
      "Requirement already satisfied: wrapt>=1.11.2 in /opt/conda/lib/python3.7/site-packages (from comet_ml<4.0.0,>=3.1.3->enchanter) (1.12.1)\r\n",
      "Collecting requests-toolbelt>=0.8.0\r\n",
      "  Downloading requests_toolbelt-0.9.1-py2.py3-none-any.whl (54 kB)\r\n",
      "\u001b[K     |████████████████████████████████| 54 kB 1.8 MB/s \r\n",
      "\u001b[?25hRequirement already satisfied: urllib3>=1.24.1 in /opt/conda/lib/python3.7/site-packages (from dulwich>=0.20.6->comet_ml<4.0.0,>=3.1.3->enchanter) (1.26.4)\r\n",
      "Requirement already satisfied: certifi in /opt/conda/lib/python3.7/site-packages (from dulwich>=0.20.6->comet_ml<4.0.0,>=3.1.3->enchanter) (2020.12.5)\r\n",
      "Collecting configobj\r\n",
      "  Downloading configobj-5.0.6.tar.gz (33 kB)\r\n",
      "Requirement already satisfied: setuptools in /opt/conda/lib/python3.7/site-packages (from jsonschema!=3.1.0,>=2.6.0->comet_ml<4.0.0,>=3.1.3->enchanter) (49.6.0.post20210108)\r\n",
      "Requirement already satisfied: pyrsistent>=0.14.0 in /opt/conda/lib/python3.7/site-packages (from jsonschema!=3.1.0,>=2.6.0->comet_ml<4.0.0,>=3.1.3->enchanter) (0.17.3)\r\n",
      "Requirement already satisfied: importlib-metadata in /opt/conda/lib/python3.7/site-packages (from jsonschema!=3.1.0,>=2.6.0->comet_ml<4.0.0,>=3.1.3->enchanter) (3.4.0)\r\n",
      "Requirement already satisfied: attrs>=17.4.0 in /opt/conda/lib/python3.7/site-packages (from jsonschema!=3.1.0,>=2.6.0->comet_ml<4.0.0,>=3.1.3->enchanter) (20.3.0)\r\n",
      "Requirement already satisfied: python-dateutil>=2.7.3 in /opt/conda/lib/python3.7/site-packages (from pandas<2.0,>=1.0->enchanter) (2.8.1)\r\n",
      "Requirement already satisfied: pytz>=2017.3 in /opt/conda/lib/python3.7/site-packages (from pandas<2.0,>=1.0->enchanter) (2021.1)\r\n",
      "Requirement already satisfied: idna<3,>=2.5 in /opt/conda/lib/python3.7/site-packages (from requests>=2.18.4->comet_ml<4.0.0,>=3.1.3->enchanter) (2.10)\r\n",
      "Requirement already satisfied: chardet<5,>=3.0.2 in /opt/conda/lib/python3.7/site-packages (from requests>=2.18.4->comet_ml<4.0.0,>=3.1.3->enchanter) (4.0.0)\r\n",
      "Requirement already satisfied: threadpoolctl>=2.0.0 in /opt/conda/lib/python3.7/site-packages (from scikit-learn<0.24,>=0.23->enchanter) (2.1.0)\r\n",
      "Requirement already satisfied: joblib>=0.11 in /opt/conda/lib/python3.7/site-packages (from scikit-learn<0.24,>=0.23->enchanter) (1.0.1)\r\n",
      "Requirement already satisfied: scipy>=0.19.1 in /opt/conda/lib/python3.7/site-packages (from scikit-learn<0.24,>=0.23->enchanter) (1.5.4)\r\n",
      "Requirement already satisfied: protobuf>=3.6.0 in /opt/conda/lib/python3.7/site-packages (from tensorboard<3.0,>=2.1->enchanter) (3.15.8)\r\n",
      "Requirement already satisfied: grpcio>=1.24.3 in /opt/conda/lib/python3.7/site-packages (from tensorboard<3.0,>=2.1->enchanter) (1.32.0)\r\n",
      "Requirement already satisfied: wheel>=0.26 in /opt/conda/lib/python3.7/site-packages (from tensorboard<3.0,>=2.1->enchanter) (0.36.2)\r\n",
      "Requirement already satisfied: absl-py>=0.4 in /opt/conda/lib/python3.7/site-packages (from tensorboard<3.0,>=2.1->enchanter) (0.12.0)\r\n",
      "Requirement already satisfied: google-auth-oauthlib<0.5,>=0.4.1 in /opt/conda/lib/python3.7/site-packages (from tensorboard<3.0,>=2.1->enchanter) (0.4.3)\r\n",
      "Requirement already satisfied: markdown>=2.6.8 in /opt/conda/lib/python3.7/site-packages (from tensorboard<3.0,>=2.1->enchanter) (3.3.4)\r\n",
      "Requirement already satisfied: google-auth<2,>=1.6.3 in /opt/conda/lib/python3.7/site-packages (from tensorboard<3.0,>=2.1->enchanter) (1.26.1)\r\n",
      "Requirement already satisfied: tensorboard-plugin-wit>=1.6.0 in /opt/conda/lib/python3.7/site-packages (from tensorboard<3.0,>=2.1->enchanter) (1.8.0)\r\n",
      "Requirement already satisfied: werkzeug>=0.11.15 in /opt/conda/lib/python3.7/site-packages (from tensorboard<3.0,>=2.1->enchanter) (1.0.1)\r\n",
      "Requirement already satisfied: cachetools<5.0,>=2.0.0 in /opt/conda/lib/python3.7/site-packages (from google-auth<2,>=1.6.3->tensorboard<3.0,>=2.1->enchanter) (4.2.1)\r\n",
      "Requirement already satisfied: rsa<5,>=3.1.4 in /opt/conda/lib/python3.7/site-packages (from google-auth<2,>=1.6.3->tensorboard<3.0,>=2.1->enchanter) (4.7.2)\r\n",
      "Requirement already satisfied: pyasn1-modules>=0.2.1 in /opt/conda/lib/python3.7/site-packages (from google-auth<2,>=1.6.3->tensorboard<3.0,>=2.1->enchanter) (0.2.7)\r\n",
      "Requirement already satisfied: requests-oauthlib>=0.7.0 in /opt/conda/lib/python3.7/site-packages (from google-auth-oauthlib<0.5,>=0.4.1->tensorboard<3.0,>=2.1->enchanter) (1.3.0)\r\n",
      "Requirement already satisfied: pyasn1<0.5.0,>=0.4.6 in /opt/conda/lib/python3.7/site-packages (from pyasn1-modules>=0.2.1->google-auth<2,>=1.6.3->tensorboard<3.0,>=2.1->enchanter) (0.4.8)\r\n",
      "Requirement already satisfied: oauthlib>=3.0.0 in /opt/conda/lib/python3.7/site-packages (from requests-oauthlib>=0.7.0->google-auth-oauthlib<0.5,>=0.4.1->tensorboard<3.0,>=2.1->enchanter) (3.0.1)\r\n",
      "Requirement already satisfied: numba>=0.48.0 in /opt/conda/lib/python3.7/site-packages (from pyts) (0.53.1)\r\n",
      "Requirement already satisfied: llvmlite<0.37,>=0.36.0rc1 in /opt/conda/lib/python3.7/site-packages (from numba>=0.48.0->pyts) (0.36.0)\r\n",
      "Requirement already satisfied: Cython in /opt/conda/lib/python3.7/site-packages (from tslearn) (0.29.23)\r\n",
      "Requirement already satisfied: zipp>=0.5 in /opt/conda/lib/python3.7/site-packages (from importlib-metadata->jsonschema!=3.1.0,>=2.6.0->comet_ml<4.0.0,>=3.1.3->enchanter) (3.4.1)\r\n",
      "Requirement already satisfied: typing-extensions>=3.6.4 in /opt/conda/lib/python3.7/site-packages (from importlib-metadata->jsonschema!=3.1.0,>=2.6.0->comet_ml<4.0.0,>=3.1.3->enchanter) (3.7.4.3)\r\n",
      "Building wheels for collected packages: configobj\r\n",
      "  Building wheel for configobj (setup.py) ... \u001b[?25l-\b \b\\\b \bdone\r\n",
      "\u001b[?25h  Created wheel for configobj: filename=configobj-5.0.6-py3-none-any.whl size=34547 sha256=2b71709b9e3bd3610c4578cd83d8a391925f28d67c3811e24b222a6d8f0a52ad\r\n",
      "  Stored in directory: /root/.cache/pip/wheels/0d/c4/19/13d74440f2a571841db6b6e0a273694327498884dafb9cf978\r\n",
      "Successfully built configobj\r\n",
      "Installing collected packages: everett, configobj, wurlitzer, requests-toolbelt, dulwich, scikit-learn, netron, comet-ml, tslearn, pyts, enchanter\r\n",
      "  Attempting uninstall: scikit-learn\r\n",
      "    Found existing installation: scikit-learn 0.24.1\r\n",
      "    Uninstalling scikit-learn-0.24.1:\r\n",
      "      Successfully uninstalled scikit-learn-0.24.1\r\n",
      "\u001b[31mERROR: pip's dependency resolver does not currently take into account all the packages that are installed. This behaviour is the source of the following dependency conflicts.\r\n",
      "pyldavis 3.3.1 requires numpy>=1.20.0, but you have numpy 1.19.5 which is incompatible.\r\n",
      "pdpbox 0.2.1 requires matplotlib==3.1.1, but you have matplotlib 3.4.1 which is incompatible.\r\n",
      "imbalanced-learn 0.8.0 requires scikit-learn>=0.24, but you have scikit-learn 0.23.2 which is incompatible.\u001b[0m\r\n",
      "Successfully installed comet-ml-3.10.0 configobj-5.0.6 dulwich-0.20.21 enchanter-0.8.1 everett-1.0.3 netron-4.9.4 pyts-0.11.0 requests-toolbelt-0.9.1 scikit-learn-0.23.2 tslearn-0.5.1.0 wurlitzer-2.1.0\r\n"
     ]
    }
   ],
   "source": [
    "!pip install pyts tslearn enchanter"
   ]
  },
  {
   "cell_type": "code",
   "execution_count": 2,
   "id": "searching-cheat",
   "metadata": {
    "execution": {
     "iopub.execute_input": "2021-05-23T13:58:39.109741Z",
     "iopub.status.busy": "2021-05-23T13:58:39.109094Z",
     "iopub.status.idle": "2021-05-23T13:58:39.980305Z",
     "shell.execute_reply": "2021-05-23T13:58:39.979613Z",
     "shell.execute_reply.started": "2021-05-23T13:46:48.873792Z"
    },
    "papermill": {
     "duration": 0.927827,
     "end_time": "2021-05-23T13:58:39.980447",
     "exception": false,
     "start_time": "2021-05-23T13:58:39.052620",
     "status": "completed"
    },
    "tags": []
   },
   "outputs": [],
   "source": [
    "import numpy as np\n",
    "import matplotlib.pyplot as plt\n",
    "from pyts.datasets import make_cylinder_bell_funnel"
   ]
  },
  {
   "cell_type": "markdown",
   "id": "demographic-spank",
   "metadata": {
    "papermill": {
     "duration": 0.051215,
     "end_time": "2021-05-23T13:58:40.086402",
     "exception": false,
     "start_time": "2021-05-23T13:58:40.035187",
     "status": "completed"
    },
    "tags": []
   },
   "source": [
    "Let's use the famous time series dataset. This is a similuation dataset called CBF."
   ]
  },
  {
   "cell_type": "code",
   "execution_count": 3,
   "id": "wired-hypothetical",
   "metadata": {
    "execution": {
     "iopub.execute_input": "2021-05-23T13:58:40.196188Z",
     "iopub.status.busy": "2021-05-23T13:58:40.195522Z",
     "iopub.status.idle": "2021-05-23T13:58:40.212198Z",
     "shell.execute_reply": "2021-05-23T13:58:40.211636Z",
     "shell.execute_reply.started": "2021-05-23T13:46:48.884754Z"
    },
    "papermill": {
     "duration": 0.073561,
     "end_time": "2021-05-23T13:58:40.212338",
     "exception": false,
     "start_time": "2021-05-23T13:58:40.138777",
     "status": "completed"
    },
    "tags": []
   },
   "outputs": [
    {
     "name": "stdout",
     "output_type": "stream",
     "text": [
      "(1024, 128)\n",
      "[0 1 2]\n"
     ]
    }
   ],
   "source": [
    "X, y = make_cylinder_bell_funnel(n_samples=1024, random_state=0)\n",
    "print(X.shape)         # [n_samples, seq_len]\n",
    "print(np.unique(y))    # 3 classes"
   ]
  },
  {
   "cell_type": "code",
   "execution_count": 4,
   "id": "flush-potter",
   "metadata": {
    "execution": {
     "iopub.execute_input": "2021-05-23T13:58:40.317930Z",
     "iopub.status.busy": "2021-05-23T13:58:40.317298Z",
     "iopub.status.idle": "2021-05-23T13:58:40.499506Z",
     "shell.execute_reply": "2021-05-23T13:58:40.499005Z",
     "shell.execute_reply.started": "2021-05-23T13:46:48.914421Z"
    },
    "papermill": {
     "duration": 0.236018,
     "end_time": "2021-05-23T13:58:40.499643",
     "exception": false,
     "start_time": "2021-05-23T13:58:40.263625",
     "status": "completed"
    },
    "tags": []
   },
   "outputs": [
    {
     "data": {
      "image/png": "[encoded data removed]",
      "text/plain": [
       "<Figure size 720x360 with 1 Axes>"
      ]
     },
     "metadata": {},
     "output_type": "display_data"
    }
   ],
   "source": [
    "fig = plt.figure(figsize=(10, 5), facecolor=\"white\")\n",
    "ax = fig.add_subplot(1, 1, 1)\n",
    "\n",
    "ax.plot(X[0])\n",
    "ax.set_title(y[0])\n",
    "\n",
    "fig.show()"
   ]
  },
  {
   "cell_type": "markdown",
   "id": "corresponding-torture",
   "metadata": {
    "papermill": {
     "duration": 0.052616,
     "end_time": "2021-05-23T13:58:40.605487",
     "exception": false,
     "start_time": "2021-05-23T13:58:40.552871",
     "status": "completed"
    },
    "tags": []
   },
   "source": [
    "## Define Model\n",
    "Neural Networks used for time series classification are mainly \n",
    "1. RNN\n",
    "2. CNN\n",
    "3. Transfomrer(very rare)\n",
    "\n",
    "Although there are many examples in which RNNs such as LSTM are mainly used for time series classification, many articles are mostly the result of short-circuit ideas called \"series data = RNN\" .\n",
    "\n",
    "Certainly thre are data that RNN is good, but CNN is more suitable. For example, it is a \"Element of action\".\n",
    "Imagine if the acceleration sensor build into your smartphone collects data at the time of walking.\n",
    "\n",
    "Walking contains \n",
    "1. Raise your legs\n",
    "2. Down your legs\n",
    "3. ...\n",
    "\n",
    "small movements such are combined. This cmall movement is called a behavioral element, and the sensor data should be present in the close part of the Elements of action. And, Elements of action nearby should be similar.\n",
    "\n",
    "This is a particularly good at CNN."
   ]
  },
  {
   "cell_type": "markdown",
   "id": "optional-daisy",
   "metadata": {
    "papermill": {
     "duration": 0.052154,
     "end_time": "2021-05-23T13:58:40.709884",
     "exception": false,
     "start_time": "2021-05-23T13:58:40.657730",
     "status": "completed"
    },
    "tags": []
   },
   "source": [
    "Here, let's create a very simple CNN."
   ]
  },
  {
   "cell_type": "code",
   "execution_count": 5,
   "id": "incorporated-nightlife",
   "metadata": {
    "execution": {
     "iopub.execute_input": "2021-05-23T13:58:40.818846Z",
     "iopub.status.busy": "2021-05-23T13:58:40.818262Z",
     "iopub.status.idle": "2021-05-23T13:58:48.283667Z",
     "shell.execute_reply": "2021-05-23T13:58:48.284222Z",
     "shell.execute_reply.started": "2021-05-23T13:46:49.073345Z"
    },
    "papermill": {
     "duration": 7.522333,
     "end_time": "2021-05-23T13:58:48.284409",
     "exception": false,
     "start_time": "2021-05-23T13:58:40.762076",
     "status": "completed"
    },
    "tags": []
   },
   "outputs": [],
   "source": [
    "import torch\n",
    "import torch.nn as nn\n",
    "from enchanter.addons import layers as L"
   ]
  },
  {
   "cell_type": "code",
   "execution_count": 6,
   "id": "orange-teacher",
   "metadata": {
    "execution": {
     "iopub.execute_input": "2021-05-23T13:58:48.393149Z",
     "iopub.status.busy": "2021-05-23T13:58:48.392455Z",
     "iopub.status.idle": "2021-05-23T13:58:48.400774Z",
     "shell.execute_reply": "2021-05-23T13:58:48.401369Z",
     "shell.execute_reply.started": "2021-05-23T13:54:06.736240Z"
    },
    "papermill": {
     "duration": 0.064091,
     "end_time": "2021-05-23T13:58:48.401546",
     "exception": false,
     "start_time": "2021-05-23T13:58:48.337455",
     "status": "completed"
    },
    "tags": []
   },
   "outputs": [],
   "source": [
    "class CNN(nn.Module):\n",
    "    def __init__(self, in_features: int, n_class: int) -> None:\n",
    "        super().__init__()\n",
    "        self.conv = nn.Sequential(\n",
    "            L.CausalConv1d(in_features, out_channels=32, kernel_size=3),\n",
    "            nn.ReLU(),\n",
    "            L.CausalConv1d(32, out_channels=32, kernel_size=3),\n",
    "            nn.ReLU()\n",
    "        )\n",
    "        self.pool = nn.AdaptiveAvgPool1d(1)\n",
    "        self.fc = nn.Sequential(\n",
    "            nn.Linear(32, 64),\n",
    "            nn.ReLU(),\n",
    "            nn.Linear(64, n_class)\n",
    "        )\n",
    "    \n",
    "    def forward(self, x: torch.Tensor) -> torch.Tensor:\n",
    "        batch = x.shape[0]\n",
    "        out = self.conv(x)\n",
    "        out = self.pool(out)\n",
    "        out = out.reshape(batch, -1)\n",
    "        out = self.fc(out)\n",
    "        \n",
    "        return out"
   ]
  },
  {
   "cell_type": "markdown",
   "id": "august-brooklyn",
   "metadata": {
    "papermill": {
     "duration": 0.052421,
     "end_time": "2021-05-23T13:58:48.507102",
     "exception": false,
     "start_time": "2021-05-23T13:58:48.454681",
     "status": "completed"
    },
    "tags": []
   },
   "source": [
    "In normal `Conv1d`, future information will alos be used to generate a new representation. On the other hand, `CausalConv` is guaranteed to use only past information to generate a new representation.\n",
    "\n",
    "As you can see, you can only make use of the model used for image classification just by just different Convs. That is, changing the Conv in EfficientNet from 2D to 1D, it may be a powerful model in time series classification."
   ]
  },
  {
   "cell_type": "code",
   "execution_count": 7,
   "id": "together-toolbox",
   "metadata": {
    "execution": {
     "iopub.execute_input": "2021-05-23T13:58:48.614730Z",
     "iopub.status.busy": "2021-05-23T13:58:48.614106Z",
     "iopub.status.idle": "2021-05-23T13:58:48.651000Z",
     "shell.execute_reply": "2021-05-23T13:58:48.651584Z",
     "shell.execute_reply.started": "2021-05-23T13:46:49.094804Z"
    },
    "papermill": {
     "duration": 0.092355,
     "end_time": "2021-05-23T13:58:48.651766",
     "exception": false,
     "start_time": "2021-05-23T13:58:48.559411",
     "status": "completed"
    },
    "tags": []
   },
   "outputs": [],
   "source": [
    "from sklearn.model_selection import train_test_split\n",
    "from torch.utils.data import TensorDataset, DataLoader\n",
    "\n",
    "\n",
    "X = np.expand_dims(X, 1)     # [samples, features, seq_len]\n",
    "x_train, x_test, y_train, y_test = train_test_split(X, y, test_size=0.3, random_state=0)\n",
    "\n",
    "train_ds = TensorDataset(torch.tensor(x_train, dtype=torch.float32), torch.tensor(y_train, dtype=torch.int64))\n",
    "test_ds = TensorDataset(torch.tensor(x_test, dtype=torch.float32), torch.tensor(y_test, dtype=torch.int64))\n",
    "\n",
    "train_loader = DataLoader(train_ds, batch_size=128, shuffle=True)\n",
    "test_loader = DataLoader(test_ds, batch_size=128, shuffle=False)"
   ]
  },
  {
   "cell_type": "code",
   "execution_count": 8,
   "id": "stable-building",
   "metadata": {
    "execution": {
     "iopub.execute_input": "2021-05-23T13:58:48.761565Z",
     "iopub.status.busy": "2021-05-23T13:58:48.760841Z",
     "iopub.status.idle": "2021-05-23T13:58:48.789016Z",
     "shell.execute_reply": "2021-05-23T13:58:48.788467Z",
     "shell.execute_reply.started": "2021-05-23T13:54:10.585277Z"
    },
    "papermill": {
     "duration": 0.083111,
     "end_time": "2021-05-23T13:58:48.789162",
     "exception": false,
     "start_time": "2021-05-23T13:58:48.706051",
     "status": "completed"
    },
    "tags": []
   },
   "outputs": [],
   "source": [
    "import torch.optim as optim\n",
    "\n",
    "from enchanter.tasks import ClassificationRunner\n",
    "from enchanter.callbacks import TensorBoardLogger\n",
    "\n",
    "\n",
    "model = CNN(X.shape[1], len(np.unique(y)))\n",
    "optimizer = optim.Adam(model.parameters())\n",
    "criterion = nn.CrossEntropyLoss()\n",
    "\n",
    "runner = ClassificationRunner(\n",
    "    model, optimizer, criterion, experiment=TensorBoardLogger()\n",
    ")"
   ]
  },
  {
   "cell_type": "code",
   "execution_count": 9,
   "id": "appreciated-contrast",
   "metadata": {
    "execution": {
     "iopub.execute_input": "2021-05-23T13:58:48.903566Z",
     "iopub.status.busy": "2021-05-23T13:58:48.902844Z",
     "iopub.status.idle": "2021-05-23T13:58:53.450592Z",
     "shell.execute_reply": "2021-05-23T13:58:53.451171Z",
     "shell.execute_reply.started": "2021-05-23T13:54:10.726072Z"
    },
    "papermill": {
     "duration": 4.608821,
     "end_time": "2021-05-23T13:58:53.451380",
     "exception": false,
     "start_time": "2021-05-23T13:58:48.842559",
     "status": "completed"
    },
    "tags": []
   },
   "outputs": [
    {
     "data": {
      "application/vnd.jupyter.widget-view+json": {
       "model_id": "58fc34d40b63433a868eb6502e662ee3",
       "version_major": 2,
       "version_minor": 0
      },
      "text/plain": [
       "Epochs:   0%|          | 0/50 [00:00<?, ?it/s]"
      ]
     },
     "metadata": {},
     "output_type": "display_data"
    },
    {
     "data": {
      "application/vnd.jupyter.widget-view+json": {
       "model_id": "0957d842c6424de7869889a8380adced",
       "version_major": 2,
       "version_minor": 0
      },
      "text/plain": [
       "Evaluating:   0%|          | 0/3 [00:00<?, ?it/s]"
      ]
     },
     "metadata": {},
     "output_type": "display_data"
    },
    {
     "data": {
      "text/plain": [
       "<enchanter.tasks.classification.ClassificationRunner at 0x7f3398291210>"
      ]
     },
     "execution_count": 9,
     "metadata": {},
     "output_type": "execute_result"
    }
   ],
   "source": [
    "runner.add_loader(\"train\", train_loader)\n",
    "runner.add_loader(\"test\", test_loader)\n",
    "\n",
    "runner.train_config(epochs=50)\n",
    "runner.run()"
   ]
  },
  {
   "cell_type": "markdown",
   "id": "religious-baptist",
   "metadata": {
    "papermill": {
     "duration": 0.053189,
     "end_time": "2021-05-23T13:58:53.559938",
     "exception": false,
     "start_time": "2021-05-23T13:58:53.506749",
     "status": "completed"
    },
    "tags": []
   },
   "source": [
    "what's the!? Not working TensorBoard!?\n",
    "```\n",
    "%load_ext tensorboard.notebook\n",
    "%tensorboard --logdir logs\n",
    "```"
   ]
  },
  {
   "cell_type": "code",
   "execution_count": 10,
   "id": "protected-learning",
   "metadata": {
    "execution": {
     "iopub.execute_input": "2021-05-23T13:58:53.674652Z",
     "iopub.status.busy": "2021-05-23T13:58:53.673501Z",
     "iopub.status.idle": "2021-05-23T13:58:53.689656Z",
     "shell.execute_reply": "2021-05-23T13:58:53.690236Z",
     "shell.execute_reply.started": "2021-05-23T13:54:16.816547Z"
    },
    "papermill": {
     "duration": 0.07733,
     "end_time": "2021-05-23T13:58:53.690418",
     "exception": false,
     "start_time": "2021-05-23T13:58:53.613088",
     "status": "completed"
    },
    "tags": []
   },
   "outputs": [
    {
     "name": "stdout",
     "output_type": "stream",
     "text": [
      "Accuacy: 0.9123\n"
     ]
    }
   ],
   "source": [
    "runner.freeze()\n",
    "with torch.no_grad():\n",
    "    out = runner.model(torch.tensor(x_test, dtype=torch.float32))\n",
    "    _, pred = out.max(1)\n",
    "    \n",
    "    collect = (pred == torch.tensor(y_test, dtype=torch.int64)).sum().float()\n",
    "    accuracy = collect / len(y_test)\n",
    "    \n",
    "    print(\"Accuacy: {:.4f}\".format(accuracy))"
   ]
  },
  {
   "cell_type": "markdown",
   "id": "thermal-brother",
   "metadata": {
    "papermill": {
     "duration": 0.053314,
     "end_time": "2021-05-23T13:58:53.797419",
     "exception": false,
     "start_time": "2021-05-23T13:58:53.744105",
     "status": "completed"
    },
    "tags": []
   },
   "source": [
    "The above is an example of classifying time series data using CNN. This time, we used univariate data, but in the case of multivariate, we can handle it by changing the number of input channels."
   ]
  },
  {
   "cell_type": "markdown",
   "id": "incoming-potato",
   "metadata": {
    "papermill": {
     "duration": 0.054447,
     "end_time": "2021-05-23T13:58:53.906935",
     "exception": false,
     "start_time": "2021-05-23T13:58:53.852488",
     "status": "completed"
    },
    "tags": []
   },
   "source": [
    "As in other areas, recent time series classification is booming with self-supervised learning. You may want to read \"Unsupervised Scalable Representation Learning for Multivariate Time Series\""
   ]
  },
  {
   "cell_type": "code",
   "execution_count": null,
   "id": "fantastic-slovakia",
   "metadata": {
    "papermill": {
     "duration": 0.054288,
     "end_time": "2021-05-23T13:58:54.016565",
     "exception": false,
     "start_time": "2021-05-23T13:58:53.962277",
     "status": "completed"
    },
    "tags": []
   },
   "outputs": [],
   "source": []
  }
 ],
 "metadata": {
  "kernelspec": {
   "display_name": "Python 3",
   "language": "python",
   "name": "python3"
  },
  "language_info": {
   "codemirror_mode": {
    "name": "ipython",
    "version": 3
   },
   "file_extension": ".py",
   "mimetype": "text/x-python",
   "name": "python",
   "nbconvert_exporter": "python",
   "pygments_lexer": "ipython3",
   "version": "3.7.10"
  },
  "papermill": {
   "default_parameters": {},
   "duration": 48.821528,
   "end_time": "2021-05-23T13:58:55.949200",
   "environment_variables": {},
   "exception": null,
   "input_path": "__notebook__.ipynb",
   "output_path": "__notebook__.ipynb",
   "parameters": {},
   "start_time": "2021-05-23T13:58:07.127672",
   "version": "2.3.3"
  },
  "widgets": {
   "application/vnd.jupyter.widget-state+json": {
    "state": {
     "0957d842c6424de7869889a8380adced": {
      "model_module": "@jupyter-widgets/controls",
      "model_module_version": "1.5.0",
      "model_name": "HBoxModel",
      "state": {
       "_dom_classes": [],
       "_model_module": "@jupyter-widgets/controls",
       "_model_module_version": "1.5.0",
       "_model_name": "HBoxModel",
       "_view_count": null,
       "_view_module": "@jupyter-widgets/controls",
       "_view_module_version": "1.5.0",
       "_view_name": "HBoxView",
       "box_style": "",
       "children": [
        "IPY_MODEL_e24b56a6feaa48759e97e11a8a06e8a5",
        "IPY_MODEL_fac32dc13d34482fbedc496e3a9183e4",
        "IPY_MODEL_5c0878bf6c814dad9ae1b9d457962e49"
       ],
       "layout": "IPY_MODEL_86e746009cb44b8d8195aa52e6f75120"
      }
     },
     "0a8b182565bd4f7a881e4bfea7c226d2": {
      "model_module": "@jupyter-widgets/controls",
      "model_module_version": "1.5.0",
      "model_name": "HTMLModel",
      "state": {
       "_dom_classes": [],
       "_model_module": "@jupyter-widgets/controls",
       "_model_module_version": "1.5.0",
       "_model_name": "HTMLModel",
       "_view_count": null,
       "_view_module": "@jupyter-widgets/controls",
       "_view_module_version": "1.5.0",
       "_view_name": "HTMLView",
       "description": "",
       "description_tooltip": null,
       "layout": "IPY_MODEL_59c16701792b4a6fbe5c7442ffbf45e6",
       "placeholder": "​",
       "style": "IPY_MODEL_55e4c09504094ab182b2250ec5f183ad",
       "value": " 50/50 [00:04&lt;00:00, 11.98it/s, train_batch=83%]"
      }
     },
     "32a00b42dfc34c6789b2c07e962aa982": {
      "model_module": "@jupyter-widgets/controls",
      "model_module_version": "1.5.0",
      "model_name": "DescriptionStyleModel",
      "state": {
       "_model_module": "@jupyter-widgets/controls",
       "_model_module_version": "1.5.0",
       "_model_name": "DescriptionStyleModel",
       "_view_count": null,
       "_view_module": "@jupyter-widgets/base",
       "_view_module_version": "1.2.0",
       "_view_name": "StyleView",
       "description_width": ""
      }
     },
     "35cfe8fb857247c9bc35a44d825b09c6": {
      "model_module": "@jupyter-widgets/base",
      "model_module_version": "1.2.0",
      "model_name": "LayoutModel",
      "state": {
       "_model_module": "@jupyter-widgets/base",
       "_model_module_version": "1.2.0",
       "_model_name": "LayoutModel",
       "_view_count": null,
       "_view_module": "@jupyter-widgets/base",
       "_view_module_version": "1.2.0",
       "_view_name": "LayoutView",
       "align_content": null,
       "align_items": null,
       "align_self": null,
       "border": null,
       "bottom": null,
       "display": null,
       "flex": null,
       "flex_flow": null,
       "grid_area": null,
       "grid_auto_columns": null,
       "grid_auto_flow": null,
       "grid_auto_rows": null,
       "grid_column": null,
       "grid_gap": null,
       "grid_row": null,
       "grid_template_areas": null,
       "grid_template_columns": null,
       "grid_template_rows": null,
       "height": null,
       "justify_content": null,
       "justify_items": null,
       "left": null,
       "margin": null,
       "max_height": null,
       "max_width": null,
       "min_height": null,
       "min_width": null,
       "object_fit": null,
       "object_position": null,
       "order": null,
       "overflow": null,
       "overflow_x": null,
       "overflow_y": null,
       "padding": null,
       "right": null,
       "top": null,
       "visibility": null,
       "width": null
      }
     },
     "3a1032230021439e85b0bc3b26a4c4c5": {
      "model_module": "@jupyter-widgets/controls",
      "model_module_version": "1.5.0",
      "model_name": "ProgressStyleModel",
      "state": {
       "_model_module": "@jupyter-widgets/controls",
       "_model_module_version": "1.5.0",
       "_model_name": "ProgressStyleModel",
       "_view_count": null,
       "_view_module": "@jupyter-widgets/base",
       "_view_module_version": "1.2.0",
       "_view_name": "StyleView",
       "bar_color": null,
       "description_width": ""
      }
     },
     "463cae84d167437696c22494189da219": {
      "model_module": "@jupyter-widgets/base",
      "model_module_version": "1.2.0",
      "model_name": "LayoutModel",
      "state": {
       "_model_module": "@jupyter-widgets/base",
       "_model_module_version": "1.2.0",
       "_model_name": "LayoutModel",
       "_view_count": null,
       "_view_module": "@jupyter-widgets/base",
       "_view_module_version": "1.2.0",
       "_view_name": "LayoutView",
       "align_content": null,
       "align_items": null,
       "align_self": null,
       "border": null,
       "bottom": null,
       "display": null,
       "flex": null,
       "flex_flow": null,
       "grid_area": null,
       "grid_auto_columns": null,
       "grid_auto_flow": null,
       "grid_auto_rows": null,
       "grid_column": null,
       "grid_gap": null,
       "grid_row": null,
       "grid_template_areas": null,
       "grid_template_columns": null,
       "grid_template_rows": null,
       "height": null,
       "justify_content": null,
       "justify_items": null,
       "left": null,
       "margin": null,
       "max_height": null,
       "max_width": null,
       "min_height": null,
       "min_width": null,
       "object_fit": null,
       "object_position": null,
       "order": null,
       "overflow": null,
       "overflow_x": null,
       "overflow_y": null,
       "padding": null,
       "right": null,
       "top": null,
       "visibility": null,
       "width": null
      }
     },
     "484150c2104144008c37503ed2feb015": {
      "model_module": "@jupyter-widgets/base",
      "model_module_version": "1.2.0",
      "model_name": "LayoutModel",
      "state": {
       "_model_module": "@jupyter-widgets/base",
       "_model_module_version": "1.2.0",
       "_model_name": "LayoutModel",
       "_view_count": null,
       "_view_module": "@jupyter-widgets/base",
       "_view_module_version": "1.2.0",
       "_view_name": "LayoutView",
       "align_content": null,
       "align_items": null,
       "align_self": null,
       "border": null,
       "bottom": null,
       "display": null,
       "flex": null,
       "flex_flow": null,
       "grid_area": null,
       "grid_auto_columns": null,
       "grid_auto_flow": null,
       "grid_auto_rows": null,
       "grid_column": null,
       "grid_gap": null,
       "grid_row": null,
       "grid_template_areas": null,
       "grid_template_columns": null,
       "grid_template_rows": null,
       "height": null,
       "justify_content": null,
       "justify_items": null,
       "left": null,
       "margin": null,
       "max_height": null,
       "max_width": null,
       "min_height": null,
       "min_width": null,
       "object_fit": null,
       "object_position": null,
       "order": null,
       "overflow": null,
       "overflow_x": null,
       "overflow_y": null,
       "padding": null,
       "right": null,
       "top": null,
       "visibility": null,
       "width": null
      }
     },
     "49de824b25e94f95bdcb6e5d485c0034": {
      "model_module": "@jupyter-widgets/controls",
      "model_module_version": "1.5.0",
      "model_name": "ProgressStyleModel",
      "state": {
       "_model_module": "@jupyter-widgets/controls",
       "_model_module_version": "1.5.0",
       "_model_name": "ProgressStyleModel",
       "_view_count": null,
       "_view_module": "@jupyter-widgets/base",
       "_view_module_version": "1.2.0",
       "_view_name": "StyleView",
       "bar_color": null,
       "description_width": ""
      }
     },
     "55e4c09504094ab182b2250ec5f183ad": {
      "model_module": "@jupyter-widgets/controls",
      "model_module_version": "1.5.0",
      "model_name": "DescriptionStyleModel",
      "state": {
       "_model_module": "@jupyter-widgets/controls",
       "_model_module_version": "1.5.0",
       "_model_name": "DescriptionStyleModel",
       "_view_count": null,
       "_view_module": "@jupyter-widgets/base",
       "_view_module_version": "1.2.0",
       "_view_name": "StyleView",
       "description_width": ""
      }
     },
     "5625c4ad5465412f84e98dd1f413dd1b": {
      "model_module": "@jupyter-widgets/controls",
      "model_module_version": "1.5.0",
      "model_name": "HTMLModel",
      "state": {
       "_dom_classes": [],
       "_model_module": "@jupyter-widgets/controls",
       "_model_module_version": "1.5.0",
       "_model_name": "HTMLModel",
       "_view_count": null,
       "_view_module": "@jupyter-widgets/controls",
       "_view_module_version": "1.5.0",
       "_view_name": "HTMLView",
       "description": "",
       "description_tooltip": null,
       "layout": "IPY_MODEL_f3b5e68c7df04e85ac28a7a27b19606d",
       "placeholder": "​",
       "style": "IPY_MODEL_a2b832ec82ec42dda758ccfcbabb0d7c",
       "value": "Epochs: 100%"
      }
     },
     "58fc34d40b63433a868eb6502e662ee3": {
      "model_module": "@jupyter-widgets/controls",
      "model_module_version": "1.5.0",
      "model_name": "HBoxModel",
      "state": {
       "_dom_classes": [],
       "_model_module": "@jupyter-widgets/controls",
       "_model_module_version": "1.5.0",
       "_model_name": "HBoxModel",
       "_view_count": null,
       "_view_module": "@jupyter-widgets/controls",
       "_view_module_version": "1.5.0",
       "_view_name": "HBoxView",
       "box_style": "",
       "children": [
        "IPY_MODEL_5625c4ad5465412f84e98dd1f413dd1b",
        "IPY_MODEL_a62ca3e63662462da04c435242bf189c",
        "IPY_MODEL_0a8b182565bd4f7a881e4bfea7c226d2"
       ],
       "layout": "IPY_MODEL_35cfe8fb857247c9bc35a44d825b09c6"
      }
     },
     "59c16701792b4a6fbe5c7442ffbf45e6": {
      "model_module": "@jupyter-widgets/base",
      "model_module_version": "1.2.0",
      "model_name": "LayoutModel",
      "state": {
       "_model_module": "@jupyter-widgets/base",
       "_model_module_version": "1.2.0",
       "_model_name": "LayoutModel",
       "_view_count": null,
       "_view_module": "@jupyter-widgets/base",
       "_view_module_version": "1.2.0",
       "_view_name": "LayoutView",
       "align_content": null,
       "align_items": null,
       "align_self": null,
       "border": null,
       "bottom": null,
       "display": null,
       "flex": null,
       "flex_flow": null,
       "grid_area": null,
       "grid_auto_columns": null,
       "grid_auto_flow": null,
       "grid_auto_rows": null,
       "grid_column": null,
       "grid_gap": null,
       "grid_row": null,
       "grid_template_areas": null,
       "grid_template_columns": null,
       "grid_template_rows": null,
       "height": null,
       "justify_content": null,
       "justify_items": null,
       "left": null,
       "margin": null,
       "max_height": null,
       "max_width": null,
       "min_height": null,
       "min_width": null,
       "object_fit": null,
       "object_position": null,
       "order": null,
       "overflow": null,
       "overflow_x": null,
       "overflow_y": null,
       "padding": null,
       "right": null,
       "top": null,
       "visibility": null,
       "width": null
      }
     },
     "5c0878bf6c814dad9ae1b9d457962e49": {
      "model_module": "@jupyter-widgets/controls",
      "model_module_version": "1.5.0",
      "model_name": "HTMLModel",
      "state": {
       "_dom_classes": [],
       "_model_module": "@jupyter-widgets/controls",
       "_model_module_version": "1.5.0",
       "_model_name": "HTMLModel",
       "_view_count": null,
       "_view_module": "@jupyter-widgets/controls",
       "_view_module_version": "1.5.0",
       "_view_name": "HTMLView",
       "description": "",
       "description_tooltip": null,
       "layout": "IPY_MODEL_66af42abc0744865af34ffc20f8c4bb3",
       "placeholder": "​",
       "style": "IPY_MODEL_32a00b42dfc34c6789b2c07e962aa982",
       "value": " 2/3 [00:00&lt;00:00, 39.49it/s, test_batch=67%]"
      }
     },
     "66af42abc0744865af34ffc20f8c4bb3": {
      "model_module": "@jupyter-widgets/base",
      "model_module_version": "1.2.0",
      "model_name": "LayoutModel",
      "state": {
       "_model_module": "@jupyter-widgets/base",
       "_model_module_version": "1.2.0",
       "_model_name": "LayoutModel",
       "_view_count": null,
       "_view_module": "@jupyter-widgets/base",
       "_view_module_version": "1.2.0",
       "_view_name": "LayoutView",
       "align_content": null,
       "align_items": null,
       "align_self": null,
       "border": null,
       "bottom": null,
       "display": null,
       "flex": null,
       "flex_flow": null,
       "grid_area": null,
       "grid_auto_columns": null,
       "grid_auto_flow": null,
       "grid_auto_rows": null,
       "grid_column": null,
       "grid_gap": null,
       "grid_row": null,
       "grid_template_areas": null,
       "grid_template_columns": null,
       "grid_template_rows": null,
       "height": null,
       "justify_content": null,
       "justify_items": null,
       "left": null,
       "margin": null,
       "max_height": null,
       "max_width": null,
       "min_height": null,
       "min_width": null,
       "object_fit": null,
       "object_position": null,
       "order": null,
       "overflow": null,
       "overflow_x": null,
       "overflow_y": null,
       "padding": null,
       "right": null,
       "top": null,
       "visibility": null,
       "width": null
      }
     },
     "86e746009cb44b8d8195aa52e6f75120": {
      "model_module": "@jupyter-widgets/base",
      "model_module_version": "1.2.0",
      "model_name": "LayoutModel",
      "state": {
       "_model_module": "@jupyter-widgets/base",
       "_model_module_version": "1.2.0",
       "_model_name": "LayoutModel",
       "_view_count": null,
       "_view_module": "@jupyter-widgets/base",
       "_view_module_version": "1.2.0",
       "_view_name": "LayoutView",
       "align_content": null,
       "align_items": null,
       "align_self": null,
       "border": null,
       "bottom": null,
       "display": null,
       "flex": null,
       "flex_flow": null,
       "grid_area": null,
       "grid_auto_columns": null,
       "grid_auto_flow": null,
       "grid_auto_rows": null,
       "grid_column": null,
       "grid_gap": null,
       "grid_row": null,
       "grid_template_areas": null,
       "grid_template_columns": null,
       "grid_template_rows": null,
       "height": null,
       "justify_content": null,
       "justify_items": null,
       "left": null,
       "margin": null,
       "max_height": null,
       "max_width": null,
       "min_height": null,
       "min_width": null,
       "object_fit": null,
       "object_position": null,
       "order": null,
       "overflow": null,
       "overflow_x": null,
       "overflow_y": null,
       "padding": null,
       "right": null,
       "top": null,
       "visibility": null,
       "width": null
      }
     },
     "a2b832ec82ec42dda758ccfcbabb0d7c": {
      "model_module": "@jupyter-widgets/controls",
      "model_module_version": "1.5.0",
      "model_name": "DescriptionStyleModel",
      "state": {
       "_model_module": "@jupyter-widgets/controls",
       "_model_module_version": "1.5.0",
       "_model_name": "DescriptionStyleModel",
       "_view_count": null,
       "_view_module": "@jupyter-widgets/base",
       "_view_module_version": "1.2.0",
       "_view_name": "StyleView",
       "description_width": ""
      }
     },
     "a62ca3e63662462da04c435242bf189c": {
      "model_module": "@jupyter-widgets/controls",
      "model_module_version": "1.5.0",
      "model_name": "FloatProgressModel",
      "state": {
       "_dom_classes": [],
       "_model_module": "@jupyter-widgets/controls",
       "_model_module_version": "1.5.0",
       "_model_name": "FloatProgressModel",
       "_view_count": null,
       "_view_module": "@jupyter-widgets/controls",
       "_view_module_version": "1.5.0",
       "_view_name": "ProgressView",
       "bar_style": "success",
       "description": "",
       "description_tooltip": null,
       "layout": "IPY_MODEL_eca5f1db835f43889bf69fd4bdbafa44",
       "max": 50.0,
       "min": 0.0,
       "orientation": "horizontal",
       "style": "IPY_MODEL_49de824b25e94f95bdcb6e5d485c0034",
       "value": 50.0
      }
     },
     "d239401eb5594988a191208a17c52099": {
      "model_module": "@jupyter-widgets/controls",
      "model_module_version": "1.5.0",
      "model_name": "DescriptionStyleModel",
      "state": {
       "_model_module": "@jupyter-widgets/controls",
       "_model_module_version": "1.5.0",
       "_model_name": "DescriptionStyleModel",
       "_view_count": null,
       "_view_module": "@jupyter-widgets/base",
       "_view_module_version": "1.2.0",
       "_view_name": "StyleView",
       "description_width": ""
      }
     },
     "e24b56a6feaa48759e97e11a8a06e8a5": {
      "model_module": "@jupyter-widgets/controls",
      "model_module_version": "1.5.0",
      "model_name": "HTMLModel",
      "state": {
       "_dom_classes": [],
       "_model_module": "@jupyter-widgets/controls",
       "_model_module_version": "1.5.0",
       "_model_name": "HTMLModel",
       "_view_count": null,
       "_view_module": "@jupyter-widgets/controls",
       "_view_module_version": "1.5.0",
       "_view_name": "HTMLView",
       "description": "",
       "description_tooltip": null,
       "layout": "IPY_MODEL_484150c2104144008c37503ed2feb015",
       "placeholder": "​",
       "style": "IPY_MODEL_d239401eb5594988a191208a17c52099",
       "value": "Evaluating:  67%"
      }
     },
     "eca5f1db835f43889bf69fd4bdbafa44": {
      "model_module": "@jupyter-widgets/base",
      "model_module_version": "1.2.0",
      "model_name": "LayoutModel",
      "state": {
       "_model_module": "@jupyter-widgets/base",
       "_model_module_version": "1.2.0",
       "_model_name": "LayoutModel",
       "_view_count": null,
       "_view_module": "@jupyter-widgets/base",
       "_view_module_version": "1.2.0",
       "_view_name": "LayoutView",
       "align_content": null,
       "align_items": null,
       "align_self": null,
       "border": null,
       "bottom": null,
       "display": null,
       "flex": null,
       "flex_flow": null,
       "grid_area": null,
       "grid_auto_columns": null,
       "grid_auto_flow": null,
       "grid_auto_rows": null,
       "grid_column": null,
       "grid_gap": null,
       "grid_row": null,
       "grid_template_areas": null,
       "grid_template_columns": null,
       "grid_template_rows": null,
       "height": null,
       "justify_content": null,
       "justify_items": null,
       "left": null,
       "margin": null,
       "max_height": null,
       "max_width": null,
       "min_height": null,
       "min_width": null,
       "object_fit": null,
       "object_position": null,
       "order": null,
       "overflow": null,
       "overflow_x": null,
       "overflow_y": null,
       "padding": null,
       "right": null,
       "top": null,
       "visibility": null,
       "width": null
      }
     },
     "f3b5e68c7df04e85ac28a7a27b19606d": {
      "model_module": "@jupyter-widgets/base",
      "model_module_version": "1.2.0",
      "model_name": "LayoutModel",
      "state": {
       "_model_module": "@jupyter-widgets/base",
       "_model_module_version": "1.2.0",
       "_model_name": "LayoutModel",
       "_view_count": null,
       "_view_module": "@jupyter-widgets/base",
       "_view_module_version": "1.2.0",
       "_view_name": "LayoutView",
       "align_content": null,
       "align_items": null,
       "align_self": null,
       "border": null,
       "bottom": null,
       "display": null,
       "flex": null,
       "flex_flow": null,
       "grid_area": null,
       "grid_auto_columns": null,
       "grid_auto_flow": null,
       "grid_auto_rows": null,
       "grid_column": null,
       "grid_gap": null,
       "grid_row": null,
       "grid_template_areas": null,
       "grid_template_columns": null,
       "grid_template_rows": null,
       "height": null,
       "justify_content": null,
       "justify_items": null,
       "left": null,
       "margin": null,
       "max_height": null,
       "max_width": null,
       "min_height": null,
       "min_width": null,
       "object_fit": null,
       "object_position": null,
       "order": null,
       "overflow": null,
       "overflow_x": null,
       "overflow_y": null,
       "padding": null,
       "right": null,
       "top": null,
       "visibility": null,
       "width": null
      }
     },
     "fac32dc13d34482fbedc496e3a9183e4": {
      "model_module": "@jupyter-widgets/controls",
      "model_module_version": "1.5.0",
      "model_name": "FloatProgressModel",
      "state": {
       "_dom_classes": [],
       "_model_module": "@jupyter-widgets/controls",
       "_model_module_version": "1.5.0",
       "_model_name": "FloatProgressModel",
       "_view_count": null,
       "_view_module": "@jupyter-widgets/controls",
       "_view_module_version": "1.5.0",
       "_view_name": "ProgressView",
       "bar_style": "",
       "description": "",
       "description_tooltip": null,
       "layout": "IPY_MODEL_463cae84d167437696c22494189da219",
       "max": 3.0,
       "min": 0.0,
       "orientation": "horizontal",
       "style": "IPY_MODEL_3a1032230021439e85b0bc3b26a4c4c5",
       "value": 2.0
      }
     }
    },
    "version_major": 2,
    "version_minor": 0
   }
  }
 },
 "nbformat": 4,
 "nbformat_minor": 5
}
