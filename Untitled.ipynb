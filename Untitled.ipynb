{
 "cells": [
  {
   "cell_type": "code",
   "execution_count": 40,
   "id": "af714a68-8ad8-46cc-9610-8a5dba69aea4",
   "metadata": {},
   "outputs": [],
   "source": [
    "import torch\n",
    "import torch.nn as nn\n",
    "\n",
    "import seaborn as sns\n",
    "import numpy as np\n",
    "import pandas as pd\n",
    "import matplotlib.pyplot as plt\n",
    "%matplotlib inline\n",
    "import os \n",
    "from sklearn.model_selection import train_test_split"
   ]
  },
  {
   "cell_type": "code",
   "execution_count": 12,
   "id": "19dee51c-b852-4307-acc9-fe7ea62d4b63",
   "metadata": {},
   "outputs": [],
   "source": [
    "tt = \"/home/avinash/Desktop/Nose Work/10 sensor sample/ManasLabDay2/Onion1/Onion1.1718618768589.csv\"\n",
    "tt_data = pd.read_csv(tt)\n",
    "header = tt_data.columns"
   ]
  },
  {
   "cell_type": "code",
   "execution_count": 75,
   "id": "3c67c29e-31a4-4e7b-9168-7f7bdd1c17c6",
   "metadata": {},
   "outputs": [
    {
     "name": "stdout",
     "output_type": "stream",
     "text": [
      "/home/avinash/Desktop/Nose Work/10 sensor sample/ManasLabDay2\n",
      "(359211, 13)\n"
     ]
    }
   ],
   "source": [
    "print(os.getcwd()+\"/ManasLabDay2\")\n",
    "ospath = f\"{os.getcwd()}/ManasLabDay2\"\n",
    "total_data = pd.DataFrame([])\n",
    "\n",
    "for c_name in os.listdir(ospath):\n",
    "    class_name= c_name \n",
    "    inside_class= os.path.join(ospath , c_name)\n",
    "    for csv_data in os.listdir(inside_class):\n",
    "        csv_data_path = os.path.join(inside_class , csv_data)\n",
    "        # print(csv_data_path)\n",
    "        try:\n",
    "            data = pd.read_csv(csv_data_path)\n",
    "            if list(data.columns !=header):\n",
    "                data.columns =header\n",
    "                temp = c_name[:-1] if (c_name[-1].isdigit()) else c_name\n",
    "                # temp = c_name\n",
    "                # print(temp)\n",
    "                data['label'] = temp\n",
    "                if(data.voc2==0):\n",
    "                    print(csv_data_path)\n",
    "            \n",
    "        except:\n",
    "            # print(csv_data_path)\n",
    "            pass\n",
    "        total_data = pd.concat([total_data , data] ,axis= 0 ,ignore_index=True)\n",
    "        \n",
    "        \n",
    "print(total_data.shape)\n",
    "        "
   ]
  },
  {
   "cell_type": "code",
   "execution_count": 76,
   "id": "06009c7c-cf1d-4ebf-b67c-3376814228d0",
   "metadata": {},
   "outputs": [
    {
     "data": {
      "text/html": [
       "<div>\n",
       "<style scoped>\n",
       "    .dataframe tbody tr th:only-of-type {\n",
       "        vertical-align: middle;\n",
       "    }\n",
       "\n",
       "    .dataframe tbody tr th {\n",
       "        vertical-align: top;\n",
       "    }\n",
       "\n",
       "    .dataframe thead th {\n",
       "        text-align: right;\n",
       "    }\n",
       "</style>\n",
       "<table border=\"1\" class=\"dataframe\">\n",
       "  <thead>\n",
       "    <tr style=\"text-align: right;\">\n",
       "      <th></th>\n",
       "      <th>timestamp</th>\n",
       "      <th>voc2</th>\n",
       "      <th>no2</th>\n",
       "      <th>eth</th>\n",
       "      <th>co</th>\n",
       "      <th>temp</th>\n",
       "      <th>pressure</th>\n",
       "      <th>humidity</th>\n",
       "      <th>mq3</th>\n",
       "      <th>mq7</th>\n",
       "      <th>mq9</th>\n",
       "      <th>mq135</th>\n",
       "    </tr>\n",
       "  </thead>\n",
       "  <tbody>\n",
       "    <tr>\n",
       "      <th>count</th>\n",
       "      <td>3.592110e+05</td>\n",
       "      <td>359211.000000</td>\n",
       "      <td>359211.000000</td>\n",
       "      <td>359211.000000</td>\n",
       "      <td>359211.000000</td>\n",
       "      <td>359211.000000</td>\n",
       "      <td>359211.000000</td>\n",
       "      <td>359211.000000</td>\n",
       "      <td>359211.000000</td>\n",
       "      <td>359211.000000</td>\n",
       "      <td>359211.000000</td>\n",
       "      <td>359211.000000</td>\n",
       "    </tr>\n",
       "    <tr>\n",
       "      <th>mean</th>\n",
       "      <td>2.327039e+08</td>\n",
       "      <td>522.995382</td>\n",
       "      <td>644.732408</td>\n",
       "      <td>328.166053</td>\n",
       "      <td>160.840837</td>\n",
       "      <td>35.544238</td>\n",
       "      <td>88.250431</td>\n",
       "      <td>29.508821</td>\n",
       "      <td>435.486795</td>\n",
       "      <td>344.891156</td>\n",
       "      <td>321.799168</td>\n",
       "      <td>479.178010</td>\n",
       "    </tr>\n",
       "    <tr>\n",
       "      <th>std</th>\n",
       "      <td>1.353937e+11</td>\n",
       "      <td>116.865359</td>\n",
       "      <td>84.458360</td>\n",
       "      <td>136.767681</td>\n",
       "      <td>176.049124</td>\n",
       "      <td>1.192376</td>\n",
       "      <td>0.136916</td>\n",
       "      <td>5.907358</td>\n",
       "      <td>129.079408</td>\n",
       "      <td>56.175719</td>\n",
       "      <td>36.794955</td>\n",
       "      <td>77.363233</td>\n",
       "    </tr>\n",
       "    <tr>\n",
       "      <th>min</th>\n",
       "      <td>4.877600e+05</td>\n",
       "      <td>288.000000</td>\n",
       "      <td>462.000000</td>\n",
       "      <td>143.000000</td>\n",
       "      <td>83.000000</td>\n",
       "      <td>32.690000</td>\n",
       "      <td>88.060000</td>\n",
       "      <td>22.070000</td>\n",
       "      <td>0.000000</td>\n",
       "      <td>228.000000</td>\n",
       "      <td>3.000000</td>\n",
       "      <td>276.000000</td>\n",
       "    </tr>\n",
       "    <tr>\n",
       "      <th>25%</th>\n",
       "      <td>2.671154e+06</td>\n",
       "      <td>458.000000</td>\n",
       "      <td>586.000000</td>\n",
       "      <td>241.000000</td>\n",
       "      <td>108.000000</td>\n",
       "      <td>35.420000</td>\n",
       "      <td>88.100000</td>\n",
       "      <td>25.440000</td>\n",
       "      <td>355.000000</td>\n",
       "      <td>299.000000</td>\n",
       "      <td>304.000000</td>\n",
       "      <td>431.000000</td>\n",
       "    </tr>\n",
       "    <tr>\n",
       "      <th>50%</th>\n",
       "      <td>5.118679e+06</td>\n",
       "      <td>493.000000</td>\n",
       "      <td>636.000000</td>\n",
       "      <td>291.000000</td>\n",
       "      <td>117.000000</td>\n",
       "      <td>35.790000</td>\n",
       "      <td>88.280000</td>\n",
       "      <td>28.230000</td>\n",
       "      <td>407.000000</td>\n",
       "      <td>333.000000</td>\n",
       "      <td>324.000000</td>\n",
       "      <td>454.000000</td>\n",
       "    </tr>\n",
       "    <tr>\n",
       "      <th>75%</th>\n",
       "      <td>9.222969e+06</td>\n",
       "      <td>560.000000</td>\n",
       "      <td>681.000000</td>\n",
       "      <td>357.000000</td>\n",
       "      <td>132.000000</td>\n",
       "      <td>36.300000</td>\n",
       "      <td>88.370000</td>\n",
       "      <td>30.510000</td>\n",
       "      <td>485.000000</td>\n",
       "      <td>392.000000</td>\n",
       "      <td>342.000000</td>\n",
       "      <td>511.000000</td>\n",
       "    </tr>\n",
       "    <tr>\n",
       "      <th>max</th>\n",
       "      <td>8.114717e+13</td>\n",
       "      <td>924.000000</td>\n",
       "      <td>907.000000</td>\n",
       "      <td>821.000000</td>\n",
       "      <td>999.000000</td>\n",
       "      <td>37.320000</td>\n",
       "      <td>88.590000</td>\n",
       "      <td>44.080000</td>\n",
       "      <td>945.000000</td>\n",
       "      <td>639.000000</td>\n",
       "      <td>720.000000</td>\n",
       "      <td>1023.000000</td>\n",
       "    </tr>\n",
       "  </tbody>\n",
       "</table>\n",
       "</div>"
      ],
      "text/plain": [
       "          timestamp           voc2            no2            eth  \\\n",
       "count  3.592110e+05  359211.000000  359211.000000  359211.000000   \n",
       "mean   2.327039e+08     522.995382     644.732408     328.166053   \n",
       "std    1.353937e+11     116.865359      84.458360     136.767681   \n",
       "min    4.877600e+05     288.000000     462.000000     143.000000   \n",
       "25%    2.671154e+06     458.000000     586.000000     241.000000   \n",
       "50%    5.118679e+06     493.000000     636.000000     291.000000   \n",
       "75%    9.222969e+06     560.000000     681.000000     357.000000   \n",
       "max    8.114717e+13     924.000000     907.000000     821.000000   \n",
       "\n",
       "                  co           temp       pressure       humidity  \\\n",
       "count  359211.000000  359211.000000  359211.000000  359211.000000   \n",
       "mean      160.840837      35.544238      88.250431      29.508821   \n",
       "std       176.049124       1.192376       0.136916       5.907358   \n",
       "min        83.000000      32.690000      88.060000      22.070000   \n",
       "25%       108.000000      35.420000      88.100000      25.440000   \n",
       "50%       117.000000      35.790000      88.280000      28.230000   \n",
       "75%       132.000000      36.300000      88.370000      30.510000   \n",
       "max       999.000000      37.320000      88.590000      44.080000   \n",
       "\n",
       "                 mq3            mq7            mq9          mq135  \n",
       "count  359211.000000  359211.000000  359211.000000  359211.000000  \n",
       "mean      435.486795     344.891156     321.799168     479.178010  \n",
       "std       129.079408      56.175719      36.794955      77.363233  \n",
       "min         0.000000     228.000000       3.000000     276.000000  \n",
       "25%       355.000000     299.000000     304.000000     431.000000  \n",
       "50%       407.000000     333.000000     324.000000     454.000000  \n",
       "75%       485.000000     392.000000     342.000000     511.000000  \n",
       "max       945.000000     639.000000     720.000000    1023.000000  "
      ]
     },
     "execution_count": 76,
     "metadata": {},
     "output_type": "execute_result"
    }
   ],
   "source": [
    "total_data.describe()"
   ]
  },
  {
   "cell_type": "code",
   "execution_count": 77,
   "id": "50ead864-e84f-4302-9a9d-2df79c3ed860",
   "metadata": {},
   "outputs": [
    {
     "name": "stdout",
     "output_type": "stream",
     "text": [
      "<class 'pandas.core.frame.DataFrame'>\n",
      "RangeIndex: 359211 entries, 0 to 359210\n",
      "Data columns (total 13 columns):\n",
      " #   Column     Non-Null Count   Dtype  \n",
      "---  ------     --------------   -----  \n",
      " 0   timestamp  359211 non-null  int64  \n",
      " 1   voc2       359211 non-null  float64\n",
      " 2   no2        359211 non-null  float64\n",
      " 3   eth        359211 non-null  float64\n",
      " 4   co         359211 non-null  float64\n",
      " 5   temp       359211 non-null  float64\n",
      " 6   pressure   359211 non-null  float64\n",
      " 7   humidity   359211 non-null  float64\n",
      " 8   mq3        359211 non-null  float64\n",
      " 9   mq7        359211 non-null  float64\n",
      " 10  mq9        359211 non-null  float64\n",
      " 11  mq135      359211 non-null  float64\n",
      " 12  label      359211 non-null  object \n",
      "dtypes: float64(11), int64(1), object(1)\n",
      "memory usage: 35.6+ MB\n"
     ]
    }
   ],
   "source": [
    "total_data.info()"
   ]
  },
  {
   "cell_type": "code",
   "execution_count": 78,
   "id": "57998c49-7f75-41e2-ba2f-c61e8ca7f94b",
   "metadata": {},
   "outputs": [
    {
     "data": {
      "text/plain": [
       "288.0"
      ]
     },
     "execution_count": 78,
     "metadata": {},
     "output_type": "execute_result"
    }
   ],
   "source": [
    "min(total_data.voc2)"
   ]
  },
  {
   "cell_type": "code",
   "execution_count": 35,
   "id": "a50cfd61-48db-4bdb-92f9-4971706395b8",
   "metadata": {},
   "outputs": [],
   "source": [
    "rows_with_zero=total_data[total_data.eq(0.0).any(axis=1)].index.tolist()"
   ]
  },
  {
   "cell_type": "code",
   "execution_count": 36,
   "id": "7861aab5-a509-4a2f-a73d-c4adaaff4283",
   "metadata": {},
   "outputs": [
    {
     "data": {
      "text/plain": [
       "359211"
      ]
     },
     "execution_count": 36,
     "metadata": {},
     "output_type": "execute_result"
    }
   ],
   "source": [
    "len(total_data)"
   ]
  },
  {
   "cell_type": "code",
   "execution_count": 69,
   "id": "b60f37ce-2b62-4cd4-8b47-4cde62999439",
   "metadata": {},
   "outputs": [
    {
     "data": {
      "text/plain": [
       "<function list.count(value, /)>"
      ]
     },
     "execution_count": 69,
     "metadata": {},
     "output_type": "execute_result"
    }
   ],
   "source": []
  },
  {
   "cell_type": "code",
   "execution_count": 38,
   "id": "844b8bce-6a39-441c-9690-37b9700913e6",
   "metadata": {},
   "outputs": [
    {
     "data": {
      "text/plain": [
       "[12475, 128225, 161113, 161114]"
      ]
     },
     "execution_count": 38,
     "metadata": {},
     "output_type": "execute_result"
    }
   ],
   "source": [
    "rows_with_zero"
   ]
  },
  {
   "cell_type": "code",
   "execution_count": null,
   "id": "5a58fd79-3d9f-4048-9bc9-8401a28052cd",
   "metadata": {},
   "outputs": [],
   "source": []
  },
  {
   "cell_type": "code",
   "execution_count": 42,
   "id": "43154027-66d0-4c4a-bcb7-fab79ee3873d",
   "metadata": {},
   "outputs": [],
   "source": [
    "for i in rows_with_zero:\n",
    " # print(total_data.iloc[i])\n",
    "    pass"
   ]
  },
  {
   "cell_type": "code",
   "execution_count": 79,
   "id": "83823c45-4853-402a-9e77-dc67084cad0c",
   "metadata": {},
   "outputs": [
    {
     "data": {
      "text/html": [
       "<div>\n",
       "<style scoped>\n",
       "    .dataframe tbody tr th:only-of-type {\n",
       "        vertical-align: middle;\n",
       "    }\n",
       "\n",
       "    .dataframe tbody tr th {\n",
       "        vertical-align: top;\n",
       "    }\n",
       "\n",
       "    .dataframe thead th {\n",
       "        text-align: right;\n",
       "    }\n",
       "</style>\n",
       "<table border=\"1\" class=\"dataframe\">\n",
       "  <thead>\n",
       "    <tr style=\"text-align: right;\">\n",
       "      <th></th>\n",
       "      <th>timestamp</th>\n",
       "      <th>voc2</th>\n",
       "      <th>no2</th>\n",
       "      <th>eth</th>\n",
       "      <th>co</th>\n",
       "      <th>temp</th>\n",
       "      <th>pressure</th>\n",
       "      <th>humidity</th>\n",
       "      <th>mq3</th>\n",
       "      <th>mq7</th>\n",
       "      <th>mq9</th>\n",
       "      <th>mq135</th>\n",
       "      <th>label</th>\n",
       "    </tr>\n",
       "  </thead>\n",
       "  <tbody>\n",
       "    <tr>\n",
       "      <th>45646</th>\n",
       "      <td>4096694</td>\n",
       "      <td>491.0</td>\n",
       "      <td>633.0</td>\n",
       "      <td>289.0</td>\n",
       "      <td>120.0</td>\n",
       "      <td>36.85</td>\n",
       "      <td>88.08</td>\n",
       "      <td>25.61</td>\n",
       "      <td>356.0</td>\n",
       "      <td>290.0</td>\n",
       "      <td>329.0</td>\n",
       "      <td>595.0</td>\n",
       "      <td>Soap</td>\n",
       "    </tr>\n",
       "    <tr>\n",
       "      <th>171998</th>\n",
       "      <td>9609475</td>\n",
       "      <td>507.0</td>\n",
       "      <td>643.0</td>\n",
       "      <td>307.0</td>\n",
       "      <td>119.0</td>\n",
       "      <td>33.61</td>\n",
       "      <td>88.35</td>\n",
       "      <td>36.81</td>\n",
       "      <td>368.0</td>\n",
       "      <td>328.0</td>\n",
       "      <td>328.0</td>\n",
       "      <td>472.0</td>\n",
       "      <td>Cardamom</td>\n",
       "    </tr>\n",
       "    <tr>\n",
       "      <th>210207</th>\n",
       "      <td>19402022</td>\n",
       "      <td>382.0</td>\n",
       "      <td>569.0</td>\n",
       "      <td>200.0</td>\n",
       "      <td>139.0</td>\n",
       "      <td>35.65</td>\n",
       "      <td>88.09</td>\n",
       "      <td>28.25</td>\n",
       "      <td>263.0</td>\n",
       "      <td>327.0</td>\n",
       "      <td>260.0</td>\n",
       "      <td>376.0</td>\n",
       "      <td>Garlic</td>\n",
       "    </tr>\n",
       "    <tr>\n",
       "      <th>142170</th>\n",
       "      <td>11421708</td>\n",
       "      <td>437.0</td>\n",
       "      <td>579.0</td>\n",
       "      <td>218.0</td>\n",
       "      <td>102.0</td>\n",
       "      <td>36.76</td>\n",
       "      <td>88.18</td>\n",
       "      <td>22.62</td>\n",
       "      <td>425.0</td>\n",
       "      <td>356.0</td>\n",
       "      <td>292.0</td>\n",
       "      <td>430.0</td>\n",
       "      <td>Incense_stick</td>\n",
       "    </tr>\n",
       "  </tbody>\n",
       "</table>\n",
       "</div>"
      ],
      "text/plain": [
       "        timestamp   voc2    no2    eth     co   temp  pressure  humidity  \\\n",
       "45646     4096694  491.0  633.0  289.0  120.0  36.85     88.08     25.61   \n",
       "171998    9609475  507.0  643.0  307.0  119.0  33.61     88.35     36.81   \n",
       "210207   19402022  382.0  569.0  200.0  139.0  35.65     88.09     28.25   \n",
       "142170   11421708  437.0  579.0  218.0  102.0  36.76     88.18     22.62   \n",
       "\n",
       "          mq3    mq7    mq9  mq135          label  \n",
       "45646   356.0  290.0  329.0  595.0           Soap  \n",
       "171998  368.0  328.0  328.0  472.0       Cardamom  \n",
       "210207  263.0  327.0  260.0  376.0         Garlic  \n",
       "142170  425.0  356.0  292.0  430.0  Incense_stick  "
      ]
     },
     "execution_count": 79,
     "metadata": {},
     "output_type": "execute_result"
    }
   ],
   "source": [
    "total_data.sample(4)"
   ]
  },
  {
   "cell_type": "code",
   "execution_count": 80,
   "id": "f8dfdd54-9634-48aa-8d39-e3a87c7ebbce",
   "metadata": {},
   "outputs": [
    {
     "data": {
      "text/plain": [
       "([0], [Text(0, 0, '')])"
      ]
     },
     "execution_count": 80,
     "metadata": {},
     "output_type": "execute_result"
    },
    {
     "data": {
      "image/png": "[encoded data removed]",
      "text/plain": [
       "<Figure size 1000x1000 with 1 Axes>"
      ]
     },
     "metadata": {},
     "output_type": "display_data"
    }
   ],
   "source": [
    "plt.figure(figsize=(10,10))\n",
    "sns.boxplot(data = total_data, y=\"voc2\", hue=\"label\")\n",
    "plt.xticks(rotation=90)"
   ]
  },
  {
   "cell_type": "code",
   "execution_count": null,
   "id": "c9ece2eb-c446-48f6-ade5-becc1d21c171",
   "metadata": {},
   "outputs": [],
   "source": []
  },
  {
   "cell_type": "code",
   "execution_count": null,
   "id": "ed1b35ec-2c71-4ea5-a78f-c03e13d3047b",
   "metadata": {},
   "outputs": [],
   "source": []
  },
  {
   "cell_type": "code",
   "execution_count": 53,
   "id": "d8f79abb-8e47-49b0-8710-e1c082f23d04",
   "metadata": {},
   "outputs": [],
   "source": [
    "# Sklearn tools\n",
    "from sklearn.model_selection import train_test_split\n",
    "from sklearn.preprocessing import StandardScaler"
   ]
  },
  {
   "cell_type": "code",
   "execution_count": 57,
   "id": "96a71eb4-b893-40ff-bd99-84ebcdb78031",
   "metadata": {},
   "outputs": [],
   "source": [
    "X = total_data.iloc[: , :-1]\n",
    "y = total_data.iloc[: , -1]"
   ]
  },
  {
   "cell_type": "code",
   "execution_count": null,
   "id": "a478b9a6-1598-4c25-bcb8-72ccb7ee9ab3",
   "metadata": {},
   "outputs": [],
   "source": [
    "x_train , x_test , y_train , y_test = train_test_split(X , y"
   ]
  },
  {
   "cell_type": "code",
   "execution_count": 163,
   "id": "b9e3dc74-88d1-4b8c-b638-eee7806bf9a0",
   "metadata": {},
   "outputs": [],
   "source": [
    "class LSTM(nn.Module):\n",
    "    def __init__(self, input_size=1, hidden_layer_size=100, output_size=1):\n",
    "        super().__init__()\n",
    "        self.hidden_layer_size = hidden_layer_size\n",
    "\n",
    "        self.lstm = nn.LSTM(input_size, hidden_layer_size)\n",
    "\n",
    "        self.linear = nn.Linear(hidden_layer_size, output_size)\n",
    "\n",
    "        self.hidden_cell = (torch.zeros(1,1,self.hidden_layer_size),\n",
    "                            torch.zeros(1,1,self.hidden_layer_size))\n",
    "\n",
    "    def forward(self, input_seq):\n",
    "        lstm_out, self.hidden_cell = self.lstm(input_seq.view(len(input_seq) ,1, -1), self.hidden_cell)\n",
    "        predictions = self.linear(lstm_out.view(len(input_seq), -1))\n",
    "        return predictions[-1]"
   ]
  },
  {
   "cell_type": "code",
   "execution_count": 164,
   "id": "36b48cce-76eb-441a-818a-b24a887a50e5",
   "metadata": {},
   "outputs": [],
   "source": [
    "model = LSTM()\n",
    "loss_function = nn.MSELoss()\n",
    "optimizer = torch.optim.Adam(model.parameters(), lr=0.001)"
   ]
  },
  {
   "cell_type": "code",
   "execution_count": 165,
   "id": "6dd1d93d-f450-4220-8cad-26e4239d53fa",
   "metadata": {},
   "outputs": [
    {
     "data": {
      "text/plain": [
       "LSTM(\n",
       "  (lstm): LSTM(1, 100)\n",
       "  (linear): Linear(in_features=100, out_features=1, bias=True)\n",
       ")"
      ]
     },
     "execution_count": 165,
     "metadata": {},
     "output_type": "execute_result"
    }
   ],
   "source": [
    "model"
   ]
  },
  {
   "cell_type": "code",
   "execution_count": null,
   "id": "5aca7212-b3e0-46fd-993a-120426e04872",
   "metadata": {},
   "outputs": [],
   "source": []
  }
 ],
 "metadata": {
  "kernelspec": {
   "display_name": "Python 3 (ipykernel)",
   "language": "python",
   "name": "python3"
  },
  "language_info": {
   "codemirror_mode": {
    "name": "ipython",
    "version": 3
   },
   "file_extension": ".py",
   "mimetype": "text/x-python",
   "name": "python",
   "nbconvert_exporter": "python",
   "pygments_lexer": "ipython3",
   "version": "3.10.12"
  }
 },
 "nbformat": 4,
 "nbformat_minor": 5
}
